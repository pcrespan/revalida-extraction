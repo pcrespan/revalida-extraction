{
 "cells": [
  {
   "cell_type": "code",
   "id": "initial_id",
   "metadata": {
    "collapsed": true
   },
   "source": [
    "from pypdf import PdfReader\n",
    "import re"
   ],
   "outputs": [],
   "execution_count": null
  },
  {
   "metadata": {},
   "cell_type": "code",
   "source": "tests = [2011, 2012, 2013, 2014, 2015, 2016]",
   "id": "849da523ce087202",
   "outputs": [],
   "execution_count": null
  },
  {
   "metadata": {},
   "cell_type": "code",
   "source": [
    "def slice(string):\n",
    "    match = re.search(r'(QUESTÃO\\s*\\d+)', string)\n",
    "    match_question = re.search(r'\\s*questão\\s*', string)\n",
    "    if match:\n",
    "        return match.group(1)\n",
    "    elif match_question:\n",
    "        return match_question.group(0)\n",
    "    return None\n",
    "\n",
    "def remove_line(string):\n",
    "    if \"REVALID\" in string or \"EXAM\" in string or \"DIPLOMAS\" in string or \"Prova Cinza\" in string or \"ÁREA LIVRE\" in string:\n",
    "        return True\n",
    "\n",
    "def replace_question(string):\n",
    "    if \"Área  liVre\" in string:\n",
    "        string.strip()\n",
    "        string.join(\"questão\")\n",
    "        return string\n",
    "    return None\n",
    "    "
   ],
   "id": "dfe13610faaaf0e1",
   "outputs": [],
   "execution_count": null
  },
  {
   "metadata": {},
   "cell_type": "code",
   "source": [
    "for test in tests:\n",
    "    path = '/home/enid/Downloads/provas/{}.pdf'.format(test)\n",
    "    reader = PdfReader(path)\n",
    "    text = \"\"\n",
    "\n",
    "    for page in reader.pages[2:]:\n",
    "        text += page.extract_text() + \"\\n\"\n",
    "    \n",
    "    final_text = \"\"\n",
    "    \n",
    "    for line in text.split(\"\\n\"):\n",
    "        sliced_line = slice(line)\n",
    "        if sliced_line is not None:\n",
    "            final_text += \"\\n\" + sliced_line + \"\\n\"\n",
    "        else:\n",
    "            stripped_line = remove_line(line)\n",
    "            if not stripped_line:\n",
    "                final_text += line + \"\\n\"\n",
    "    \n",
    "    with open(\"{}.txt\".format(test), \"w\") as f:\n",
    "        f.write(final_text)"
   ],
   "id": "f6540317f28020f6",
   "outputs": [],
   "execution_count": null
  }
 ],
 "metadata": {
  "kernelspec": {
   "display_name": "Python 3",
   "language": "python",
   "name": "python3"
  },
  "language_info": {
   "codemirror_mode": {
    "name": "ipython",
    "version": 2
   },
   "file_extension": ".py",
   "mimetype": "text/x-python",
   "name": "python",
   "nbconvert_exporter": "python",
   "pygments_lexer": "ipython2",
   "version": "2.7.6"
  }
 },
 "nbformat": 4,
 "nbformat_minor": 5
}
